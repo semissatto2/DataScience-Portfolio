{
 "cells": [
  {
   "cell_type": "markdown",
   "metadata": {},
   "source": [
    "### Dataset ENEM 2018\n",
    "http://download.inep.gov.br/microdados/microdados_enem_2008.zip"
   ]
  },
  {
   "cell_type": "code",
   "execution_count": 1,
   "metadata": {},
   "outputs": [],
   "source": [
    "import pandas as pd\n",
    "import numpy as np"
   ]
  },
  {
   "cell_type": "code",
   "execution_count": 2,
   "metadata": {},
   "outputs": [],
   "source": [
    "columns = df = pd.read_csv('MICRODADOS_ENEM_2018.csv', encoding='latin-1', sep = ';', nrows = 2).columns"
   ]
  },
  {
   "cell_type": "markdown",
   "metadata": {},
   "source": [
    "### Algumas colunas apenas complicarão o modelo, e não fazem sentido serem analisadas, portanto foram removidas da análise:"
   ]
  },
  {
   "cell_type": "code",
   "execution_count": 3,
   "metadata": {},
   "outputs": [],
   "source": [
    "columns_to_drop = [\n",
    "    'NU_INSCRICAO',\n",
    "    'NU_ANO',\n",
    "    'CO_MUNICIPIO_RESIDENCIA',\n",
    "    'NO_MUNICIPIO_RESIDENCIA',\n",
    "    'CO_UF_RESIDENCIA',\n",
    "    'TP_NACIONALIDADE',\n",
    "    'CO_MUNICIPIO_NASCIMENTO',\n",
    "    'NO_MUNICIPIO_NASCIMENTO',\n",
    "    'SG_UF_NASCIMENTO',\n",
    "    'CO_UF_NASCIMENTO',\n",
    "    'CO_ESCOLA',\n",
    "    'CO_MUNICIPIO_ESC',\n",
    "    'NO_MUNICIPIO_ESC',\n",
    "    'CO_UF_ESC',\n",
    "    'SG_UF_ESC',\n",
    "    'TP_DEPENDENCIA_ADM_ESC',\n",
    "    'TP_SIT_FUNC_ESC',\n",
    "    'IN_BAIXA_VISAO',\n",
    "    'IN_CEGUEIRA',\n",
    "    'IN_SURDEZ',\n",
    "    'IN_DEFICIENCIA_AUDITIVA',\n",
    "    'IN_SURDO_CEGUEIRA',\n",
    "    'IN_DEFICIENCIA_FISICA',\n",
    "    'IN_VISAO_MONOCULAR',\n",
    "    'IN_OUTRA_DEF',\n",
    "    'IN_GESTANTE',\n",
    "    'IN_LACTANTE',\n",
    "    'IN_IDOSO',\n",
    "    'IN_ESTUDA_CLASSE_HOSPITALAR',\n",
    "    'IN_BRAILLE',\n",
    "    'IN_AMPLIADA_24',\n",
    "    'IN_AMPLIADA_18',\n",
    "    'IN_LEDOR',\n",
    "    'IN_ACESSO',\n",
    "    'IN_TRANSCRICAO',\n",
    "    'IN_LIBRAS',\n",
    "    'IN_LEITURA_LABIAL',\n",
    "    'IN_MESA_CADEIRA_RODAS',\n",
    "    'IN_MESA_CADEIRA_SEPARADA',\n",
    "    'IN_APOIO_PERNA',\n",
    "    'IN_GUIA_INTERPRETE',\n",
    "    'IN_COMPUTADOR',\n",
    "    'IN_CADEIRA_ESPECIAL',\n",
    "    'IN_CADEIRA_CANHOTO',\n",
    "    'IN_CADEIRA_ACOLCHOADA',\n",
    "    'IN_PROVA_DEITADO',\n",
    "    'IN_MOBILIARIO_OBESO',\n",
    "    'IN_LAMINA_OVERLAY',\n",
    "    'IN_PROTETOR_AURICULAR',\n",
    "    'IN_MEDIDOR_GLICOSE',\n",
    "    'IN_MAQUINA_BRAILE',\n",
    "    'IN_SOROBAN',\n",
    "    'IN_MARCA_PASSO',\n",
    "    'IN_SONDA',\n",
    "    'IN_MEDICAMENTOS',\n",
    "    'IN_SALA_INDIVIDUAL',\n",
    "    'IN_SALA_ESPECIAL',\n",
    "    'IN_SALA_ACOMPANHANTE',\n",
    "    'IN_MOBILIARIO_ESPECIFICO',\n",
    "    'IN_MATERIAL_ESPECIFICO',\n",
    "    'IN_NOME_SOCIAL',\n",
    "    'CO_MUNICIPIO_PROVA',\n",
    "    'NO_MUNICIPIO_PROVA',\n",
    "    'CO_UF_PROVA',\n",
    "    'SG_UF_PROVA',\n",
    "    'TP_PRESENCA_CN',\n",
    "    'TP_PRESENCA_CH',\n",
    "    'TP_PRESENCA_LC',\n",
    "    'TP_PRESENCA_MT',\n",
    "    'CO_PROVA_CN',\n",
    "    'CO_PROVA_CH',\n",
    "    'CO_PROVA_LC',\n",
    "    'CO_PROVA_MT',\n",
    "    'TX_RESPOSTAS_CN',\n",
    "    'TX_RESPOSTAS_CH',\n",
    "    'TX_RESPOSTAS_LC',\n",
    "    'TX_RESPOSTAS_MT',\n",
    "    'TX_GABARITO_CN',\n",
    "    'TX_GABARITO_CH',\n",
    "    'TX_GABARITO_LC',\n",
    "    'TX_GABARITO_MT',\n",
    "    'TP_STATUS_REDACAO',\n",
    "    'NU_NOTA_COMP1',\n",
    "    'NU_NOTA_COMP2',\n",
    "    'NU_NOTA_COMP3',\n",
    "    'NU_NOTA_COMP4',\n",
    "    'NU_NOTA_COMP5',\n",
    "    'Q008',\n",
    "    'Q009',\n",
    "    'Q013',\n",
    "    'Q014',\n",
    "    'Q015',\n",
    "    'Q016',\n",
    "    'Q017',\n",
    "    'Q018',\n",
    "    'Q019',\n",
    "    'Q020',\n",
    "    'Q021',\n",
    "    'Q022',\n",
    "    'Q023',\n",
    "    'Q026'    \n",
    "    ]"
   ]
  },
  {
   "cell_type": "code",
   "execution_count": 4,
   "metadata": {},
   "outputs": [],
   "source": [
    "columns_to_use = []\n",
    "for column in columns:\n",
    "    if column in columns_to_drop:\n",
    "        pass\n",
    "    else:\n",
    "        columns_to_use.append(column)"
   ]
  },
  {
   "cell_type": "code",
   "execution_count": 5,
   "metadata": {},
   "outputs": [],
   "source": [
    "df = pd.read_csv('MICRODADOS_ENEM_2018.csv', encoding='latin-1', sep = ';', usecols = columns_to_use, skiprows = 800000, nrows = 1000000, names = columns)"
   ]
  },
  {
   "cell_type": "code",
   "execution_count": 6,
   "metadata": {},
   "outputs": [
    {
     "data": {
      "text/html": [
       "<div>\n",
       "<style scoped>\n",
       "    .dataframe tbody tr th:only-of-type {\n",
       "        vertical-align: middle;\n",
       "    }\n",
       "\n",
       "    .dataframe tbody tr th {\n",
       "        vertical-align: top;\n",
       "    }\n",
       "\n",
       "    .dataframe thead th {\n",
       "        text-align: right;\n",
       "    }\n",
       "</style>\n",
       "<table border=\"1\" class=\"dataframe\">\n",
       "  <thead>\n",
       "    <tr style=\"text-align: right;\">\n",
       "      <th></th>\n",
       "      <th>SG_UF_RESIDENCIA</th>\n",
       "      <th>NU_IDADE</th>\n",
       "      <th>TP_SEXO</th>\n",
       "      <th>TP_ESTADO_CIVIL</th>\n",
       "      <th>TP_COR_RACA</th>\n",
       "      <th>TP_ST_CONCLUSAO</th>\n",
       "      <th>TP_ANO_CONCLUIU</th>\n",
       "      <th>TP_ESCOLA</th>\n",
       "      <th>TP_ENSINO</th>\n",
       "      <th>IN_TREINEIRO</th>\n",
       "      <th>...</th>\n",
       "      <th>Q004</th>\n",
       "      <th>Q005</th>\n",
       "      <th>Q006</th>\n",
       "      <th>Q007</th>\n",
       "      <th>Q010</th>\n",
       "      <th>Q011</th>\n",
       "      <th>Q012</th>\n",
       "      <th>Q024</th>\n",
       "      <th>Q025</th>\n",
       "      <th>Q027</th>\n",
       "    </tr>\n",
       "  </thead>\n",
       "  <tbody>\n",
       "    <tr>\n",
       "      <td>0</td>\n",
       "      <td>PA</td>\n",
       "      <td>17.0</td>\n",
       "      <td>M</td>\n",
       "      <td>0.0</td>\n",
       "      <td>3</td>\n",
       "      <td>2</td>\n",
       "      <td>0</td>\n",
       "      <td>2</td>\n",
       "      <td>1.0</td>\n",
       "      <td>0</td>\n",
       "      <td>...</td>\n",
       "      <td>A</td>\n",
       "      <td>4</td>\n",
       "      <td>B</td>\n",
       "      <td>A</td>\n",
       "      <td>A</td>\n",
       "      <td>A</td>\n",
       "      <td>B</td>\n",
       "      <td>A</td>\n",
       "      <td>A</td>\n",
       "      <td>C</td>\n",
       "    </tr>\n",
       "    <tr>\n",
       "      <td>1</td>\n",
       "      <td>SP</td>\n",
       "      <td>26.0</td>\n",
       "      <td>F</td>\n",
       "      <td>0.0</td>\n",
       "      <td>3</td>\n",
       "      <td>1</td>\n",
       "      <td>8</td>\n",
       "      <td>1</td>\n",
       "      <td>1.0</td>\n",
       "      <td>0</td>\n",
       "      <td>...</td>\n",
       "      <td>B</td>\n",
       "      <td>4</td>\n",
       "      <td>D</td>\n",
       "      <td>A</td>\n",
       "      <td>B</td>\n",
       "      <td>A</td>\n",
       "      <td>B</td>\n",
       "      <td>B</td>\n",
       "      <td>A</td>\n",
       "      <td>A</td>\n",
       "    </tr>\n",
       "    <tr>\n",
       "      <td>2</td>\n",
       "      <td>MG</td>\n",
       "      <td>17.0</td>\n",
       "      <td>F</td>\n",
       "      <td>0.0</td>\n",
       "      <td>1</td>\n",
       "      <td>2</td>\n",
       "      <td>0</td>\n",
       "      <td>1</td>\n",
       "      <td>1.0</td>\n",
       "      <td>0</td>\n",
       "      <td>...</td>\n",
       "      <td>D</td>\n",
       "      <td>4</td>\n",
       "      <td>G</td>\n",
       "      <td>A</td>\n",
       "      <td>B</td>\n",
       "      <td>A</td>\n",
       "      <td>B</td>\n",
       "      <td>C</td>\n",
       "      <td>B</td>\n",
       "      <td>A</td>\n",
       "    </tr>\n",
       "    <tr>\n",
       "      <td>3</td>\n",
       "      <td>BA</td>\n",
       "      <td>16.0</td>\n",
       "      <td>M</td>\n",
       "      <td>0.0</td>\n",
       "      <td>2</td>\n",
       "      <td>3</td>\n",
       "      <td>0</td>\n",
       "      <td>1</td>\n",
       "      <td>NaN</td>\n",
       "      <td>1</td>\n",
       "      <td>...</td>\n",
       "      <td>B</td>\n",
       "      <td>2</td>\n",
       "      <td>B</td>\n",
       "      <td>B</td>\n",
       "      <td>A</td>\n",
       "      <td>A</td>\n",
       "      <td>B</td>\n",
       "      <td>A</td>\n",
       "      <td>B</td>\n",
       "      <td>A</td>\n",
       "    </tr>\n",
       "    <tr>\n",
       "      <td>4</td>\n",
       "      <td>SP</td>\n",
       "      <td>18.0</td>\n",
       "      <td>M</td>\n",
       "      <td>0.0</td>\n",
       "      <td>3</td>\n",
       "      <td>2</td>\n",
       "      <td>0</td>\n",
       "      <td>2</td>\n",
       "      <td>1.0</td>\n",
       "      <td>0</td>\n",
       "      <td>...</td>\n",
       "      <td>B</td>\n",
       "      <td>5</td>\n",
       "      <td>C</td>\n",
       "      <td>A</td>\n",
       "      <td>A</td>\n",
       "      <td>A</td>\n",
       "      <td>B</td>\n",
       "      <td>B</td>\n",
       "      <td>B</td>\n",
       "      <td>A</td>\n",
       "    </tr>\n",
       "  </tbody>\n",
       "</table>\n",
       "<p>5 rows × 36 columns</p>\n",
       "</div>"
      ],
      "text/plain": [
       "  SG_UF_RESIDENCIA  NU_IDADE TP_SEXO  TP_ESTADO_CIVIL  TP_COR_RACA  \\\n",
       "0               PA      17.0       M              0.0            3   \n",
       "1               SP      26.0       F              0.0            3   \n",
       "2               MG      17.0       F              0.0            1   \n",
       "3               BA      16.0       M              0.0            2   \n",
       "4               SP      18.0       M              0.0            3   \n",
       "\n",
       "   TP_ST_CONCLUSAO  TP_ANO_CONCLUIU  TP_ESCOLA  TP_ENSINO  IN_TREINEIRO  ...  \\\n",
       "0                2                0          2        1.0             0  ...   \n",
       "1                1                8          1        1.0             0  ...   \n",
       "2                2                0          1        1.0             0  ...   \n",
       "3                3                0          1        NaN             1  ...   \n",
       "4                2                0          2        1.0             0  ...   \n",
       "\n",
       "   Q004  Q005  Q006  Q007  Q010  Q011  Q012  Q024  Q025  Q027  \n",
       "0     A     4     B     A     A     A     B     A     A     C  \n",
       "1     B     4     D     A     B     A     B     B     A     A  \n",
       "2     D     4     G     A     B     A     B     C     B     A  \n",
       "3     B     2     B     B     A     A     B     A     B     A  \n",
       "4     B     5     C     A     A     A     B     B     B     A  \n",
       "\n",
       "[5 rows x 36 columns]"
      ]
     },
     "execution_count": 6,
     "metadata": {},
     "output_type": "execute_result"
    }
   ],
   "source": [
    "df.head()"
   ]
  },
  {
   "cell_type": "markdown",
   "metadata": {},
   "source": [
    "### Adiciona ao dataset a nota médio do estudante como a média simples das cincos notas (Ciências da Natureza, Ciências Humanas, Linguagens, Matemática e Redação)"
   ]
  },
  {
   "cell_type": "code",
   "execution_count": 7,
   "metadata": {},
   "outputs": [],
   "source": [
    "df['NOTA_MEDIA'] = (df['NU_NOTA_CN'] + df['NU_NOTA_CH'] + df['NU_NOTA_LC'] + df['NU_NOTA_MT'] + df['NU_NOTA_REDACAO'])/5.0"
   ]
  },
  {
   "cell_type": "code",
   "execution_count": 8,
   "metadata": {},
   "outputs": [
    {
     "name": "stdout",
     "output_type": "stream",
     "text": [
      "<class 'pandas.core.frame.DataFrame'>\n",
      "RangeIndex: 1000000 entries, 0 to 999999\n",
      "Data columns (total 37 columns):\n",
      "SG_UF_RESIDENCIA         1000000 non-null object\n",
      "NU_IDADE                 999992 non-null float64\n",
      "TP_SEXO                  1000000 non-null object\n",
      "TP_ESTADO_CIVIL          961198 non-null float64\n",
      "TP_COR_RACA              1000000 non-null int64\n",
      "TP_ST_CONCLUSAO          1000000 non-null int64\n",
      "TP_ANO_CONCLUIU          1000000 non-null int64\n",
      "TP_ESCOLA                1000000 non-null int64\n",
      "TP_ENSINO                716065 non-null float64\n",
      "IN_TREINEIRO             1000000 non-null int64\n",
      "TP_LOCALIZACAO_ESC       297425 non-null float64\n",
      "IN_DEFICIENCIA_MENTAL    1000000 non-null int64\n",
      "IN_DEFICIT_ATENCAO       1000000 non-null int64\n",
      "IN_DISLEXIA              1000000 non-null int64\n",
      "IN_DISCALCULIA           1000000 non-null int64\n",
      "IN_AUTISMO               1000000 non-null int64\n",
      "IN_SEM_RECURSO           1000000 non-null int64\n",
      "NU_NOTA_CN               747547 non-null float64\n",
      "NU_NOTA_CH               788859 non-null float64\n",
      "NU_NOTA_LC               788859 non-null float64\n",
      "NU_NOTA_MT               747547 non-null float64\n",
      "TP_LINGUA                1000000 non-null int64\n",
      "NU_NOTA_REDACAO          788859 non-null float64\n",
      "Q001                     1000000 non-null object\n",
      "Q002                     1000000 non-null object\n",
      "Q003                     1000000 non-null object\n",
      "Q004                     1000000 non-null object\n",
      "Q005                     1000000 non-null int64\n",
      "Q006                     1000000 non-null object\n",
      "Q007                     1000000 non-null object\n",
      "Q010                     1000000 non-null object\n",
      "Q011                     1000000 non-null object\n",
      "Q012                     1000000 non-null object\n",
      "Q024                     1000000 non-null object\n",
      "Q025                     1000000 non-null object\n",
      "Q027                     1000000 non-null object\n",
      "NOTA_MEDIA               745705 non-null float64\n",
      "dtypes: float64(10), int64(13), object(14)\n",
      "memory usage: 282.3+ MB\n"
     ]
    }
   ],
   "source": [
    "df.info()"
   ]
  },
  {
   "cell_type": "code",
   "execution_count": 9,
   "metadata": {},
   "outputs": [
    {
     "name": "stdout",
     "output_type": "stream",
     "text": [
      "Antes (1000000, 37)\n",
      "Depois (784190, 37)\n"
     ]
    }
   ],
   "source": [
    "print('Antes {}'.format(df.shape))\n",
    "df.drop(df[(df['Q001']==\"H\") | (df['Q002']==\"H\")|(df['Q003']==\"F\") | (df['Q004']==\"F\")].index, inplace=True)\n",
    "print('Depois {}'.format(df.shape))"
   ]
  },
  {
   "cell_type": "code",
   "execution_count": 10,
   "metadata": {},
   "outputs": [
    {
     "data": {
      "text/html": [
       "<div>\n",
       "<style scoped>\n",
       "    .dataframe tbody tr th:only-of-type {\n",
       "        vertical-align: middle;\n",
       "    }\n",
       "\n",
       "    .dataframe tbody tr th {\n",
       "        vertical-align: top;\n",
       "    }\n",
       "\n",
       "    .dataframe thead th {\n",
       "        text-align: right;\n",
       "    }\n",
       "</style>\n",
       "<table border=\"1\" class=\"dataframe\">\n",
       "  <thead>\n",
       "    <tr style=\"text-align: right;\">\n",
       "      <th></th>\n",
       "      <th>SG_UF_RESIDENCIA</th>\n",
       "      <th>NU_IDADE</th>\n",
       "      <th>TP_SEXO</th>\n",
       "      <th>TP_ESTADO_CIVIL</th>\n",
       "      <th>TP_COR_RACA</th>\n",
       "      <th>TP_ST_CONCLUSAO</th>\n",
       "      <th>TP_ANO_CONCLUIU</th>\n",
       "      <th>TP_ESCOLA</th>\n",
       "      <th>TP_ENSINO</th>\n",
       "      <th>IN_TREINEIRO</th>\n",
       "      <th>...</th>\n",
       "      <th>Q005</th>\n",
       "      <th>Q006</th>\n",
       "      <th>Q007</th>\n",
       "      <th>Q010</th>\n",
       "      <th>Q011</th>\n",
       "      <th>Q012</th>\n",
       "      <th>Q024</th>\n",
       "      <th>Q025</th>\n",
       "      <th>Q027</th>\n",
       "      <th>NOTA_MEDIA</th>\n",
       "    </tr>\n",
       "  </thead>\n",
       "  <tbody>\n",
       "    <tr>\n",
       "      <td>999994</td>\n",
       "      <td>MG</td>\n",
       "      <td>17.0</td>\n",
       "      <td>F</td>\n",
       "      <td>2.0</td>\n",
       "      <td>3</td>\n",
       "      <td>3</td>\n",
       "      <td>0</td>\n",
       "      <td>1</td>\n",
       "      <td>NaN</td>\n",
       "      <td>1</td>\n",
       "      <td>...</td>\n",
       "      <td>5</td>\n",
       "      <td>J</td>\n",
       "      <td>A</td>\n",
       "      <td>B</td>\n",
       "      <td>A</td>\n",
       "      <td>B</td>\n",
       "      <td>B</td>\n",
       "      <td>B</td>\n",
       "      <td>A</td>\n",
       "      <td>497.88</td>\n",
       "    </tr>\n",
       "    <tr>\n",
       "      <td>999996</td>\n",
       "      <td>SP</td>\n",
       "      <td>17.0</td>\n",
       "      <td>M</td>\n",
       "      <td>0.0</td>\n",
       "      <td>0</td>\n",
       "      <td>2</td>\n",
       "      <td>0</td>\n",
       "      <td>2</td>\n",
       "      <td>1.0</td>\n",
       "      <td>0</td>\n",
       "      <td>...</td>\n",
       "      <td>5</td>\n",
       "      <td>C</td>\n",
       "      <td>A</td>\n",
       "      <td>A</td>\n",
       "      <td>A</td>\n",
       "      <td>B</td>\n",
       "      <td>A</td>\n",
       "      <td>B</td>\n",
       "      <td>A</td>\n",
       "      <td>476.30</td>\n",
       "    </tr>\n",
       "    <tr>\n",
       "      <td>999997</td>\n",
       "      <td>MT</td>\n",
       "      <td>19.0</td>\n",
       "      <td>F</td>\n",
       "      <td>0.0</td>\n",
       "      <td>3</td>\n",
       "      <td>1</td>\n",
       "      <td>1</td>\n",
       "      <td>1</td>\n",
       "      <td>NaN</td>\n",
       "      <td>0</td>\n",
       "      <td>...</td>\n",
       "      <td>5</td>\n",
       "      <td>C</td>\n",
       "      <td>A</td>\n",
       "      <td>A</td>\n",
       "      <td>A</td>\n",
       "      <td>B</td>\n",
       "      <td>A</td>\n",
       "      <td>A</td>\n",
       "      <td>A</td>\n",
       "      <td>NaN</td>\n",
       "    </tr>\n",
       "    <tr>\n",
       "      <td>999998</td>\n",
       "      <td>PR</td>\n",
       "      <td>20.0</td>\n",
       "      <td>M</td>\n",
       "      <td>0.0</td>\n",
       "      <td>0</td>\n",
       "      <td>2</td>\n",
       "      <td>0</td>\n",
       "      <td>2</td>\n",
       "      <td>3.0</td>\n",
       "      <td>0</td>\n",
       "      <td>...</td>\n",
       "      <td>3</td>\n",
       "      <td>B</td>\n",
       "      <td>A</td>\n",
       "      <td>A</td>\n",
       "      <td>A</td>\n",
       "      <td>B</td>\n",
       "      <td>A</td>\n",
       "      <td>A</td>\n",
       "      <td>A</td>\n",
       "      <td>505.52</td>\n",
       "    </tr>\n",
       "    <tr>\n",
       "      <td>999999</td>\n",
       "      <td>SP</td>\n",
       "      <td>17.0</td>\n",
       "      <td>M</td>\n",
       "      <td>0.0</td>\n",
       "      <td>3</td>\n",
       "      <td>2</td>\n",
       "      <td>0</td>\n",
       "      <td>2</td>\n",
       "      <td>3.0</td>\n",
       "      <td>0</td>\n",
       "      <td>...</td>\n",
       "      <td>1</td>\n",
       "      <td>C</td>\n",
       "      <td>A</td>\n",
       "      <td>A</td>\n",
       "      <td>A</td>\n",
       "      <td>B</td>\n",
       "      <td>B</td>\n",
       "      <td>B</td>\n",
       "      <td>A</td>\n",
       "      <td>471.22</td>\n",
       "    </tr>\n",
       "  </tbody>\n",
       "</table>\n",
       "<p>5 rows × 37 columns</p>\n",
       "</div>"
      ],
      "text/plain": [
       "       SG_UF_RESIDENCIA  NU_IDADE TP_SEXO  TP_ESTADO_CIVIL  TP_COR_RACA  \\\n",
       "999994               MG      17.0       F              2.0            3   \n",
       "999996               SP      17.0       M              0.0            0   \n",
       "999997               MT      19.0       F              0.0            3   \n",
       "999998               PR      20.0       M              0.0            0   \n",
       "999999               SP      17.0       M              0.0            3   \n",
       "\n",
       "        TP_ST_CONCLUSAO  TP_ANO_CONCLUIU  TP_ESCOLA  TP_ENSINO  IN_TREINEIRO  \\\n",
       "999994                3                0          1        NaN             1   \n",
       "999996                2                0          2        1.0             0   \n",
       "999997                1                1          1        NaN             0   \n",
       "999998                2                0          2        3.0             0   \n",
       "999999                2                0          2        3.0             0   \n",
       "\n",
       "        ...  Q005  Q006  Q007  Q010  Q011  Q012  Q024  Q025  Q027  NOTA_MEDIA  \n",
       "999994  ...     5     J     A     B     A     B     B     B     A      497.88  \n",
       "999996  ...     5     C     A     A     A     B     A     B     A      476.30  \n",
       "999997  ...     5     C     A     A     A     B     A     A     A         NaN  \n",
       "999998  ...     3     B     A     A     A     B     A     A     A      505.52  \n",
       "999999  ...     1     C     A     A     A     B     B     B     A      471.22  \n",
       "\n",
       "[5 rows x 37 columns]"
      ]
     },
     "execution_count": 10,
     "metadata": {},
     "output_type": "execute_result"
    }
   ],
   "source": [
    "df.tail()"
   ]
  },
  {
   "cell_type": "code",
   "execution_count": 11,
   "metadata": {},
   "outputs": [],
   "source": [
    "# Há muito dados faltantes 'NaN' sobre o tipo de localização da escola. Os dados faltantes, preenchi como 'Urbano', pois é o caso mais recorrente\n",
    "df['TP_LOCALIZACAO_ESC'] = df['TP_LOCALIZACAO_ESC'].fillna(1)"
   ]
  },
  {
   "cell_type": "code",
   "execution_count": 12,
   "metadata": {},
   "outputs": [],
   "source": [
    "df = df.dropna(axis = 0, how = 'any')"
   ]
  },
  {
   "cell_type": "code",
   "execution_count": 13,
   "metadata": {},
   "outputs": [
    {
     "name": "stdout",
     "output_type": "stream",
     "text": [
      "<class 'pandas.core.frame.DataFrame'>\n",
      "Int64Index: 399742 entries, 0 to 999999\n",
      "Data columns (total 37 columns):\n",
      "SG_UF_RESIDENCIA         399742 non-null object\n",
      "NU_IDADE                 399742 non-null float64\n",
      "TP_SEXO                  399742 non-null object\n",
      "TP_ESTADO_CIVIL          399742 non-null float64\n",
      "TP_COR_RACA              399742 non-null int64\n",
      "TP_ST_CONCLUSAO          399742 non-null int64\n",
      "TP_ANO_CONCLUIU          399742 non-null int64\n",
      "TP_ESCOLA                399742 non-null int64\n",
      "TP_ENSINO                399742 non-null float64\n",
      "IN_TREINEIRO             399742 non-null int64\n",
      "TP_LOCALIZACAO_ESC       399742 non-null float64\n",
      "IN_DEFICIENCIA_MENTAL    399742 non-null int64\n",
      "IN_DEFICIT_ATENCAO       399742 non-null int64\n",
      "IN_DISLEXIA              399742 non-null int64\n",
      "IN_DISCALCULIA           399742 non-null int64\n",
      "IN_AUTISMO               399742 non-null int64\n",
      "IN_SEM_RECURSO           399742 non-null int64\n",
      "NU_NOTA_CN               399742 non-null float64\n",
      "NU_NOTA_CH               399742 non-null float64\n",
      "NU_NOTA_LC               399742 non-null float64\n",
      "NU_NOTA_MT               399742 non-null float64\n",
      "TP_LINGUA                399742 non-null int64\n",
      "NU_NOTA_REDACAO          399742 non-null float64\n",
      "Q001                     399742 non-null object\n",
      "Q002                     399742 non-null object\n",
      "Q003                     399742 non-null object\n",
      "Q004                     399742 non-null object\n",
      "Q005                     399742 non-null int64\n",
      "Q006                     399742 non-null object\n",
      "Q007                     399742 non-null object\n",
      "Q010                     399742 non-null object\n",
      "Q011                     399742 non-null object\n",
      "Q012                     399742 non-null object\n",
      "Q024                     399742 non-null object\n",
      "Q025                     399742 non-null object\n",
      "Q027                     399742 non-null object\n",
      "NOTA_MEDIA               399742 non-null float64\n",
      "dtypes: float64(10), int64(13), object(14)\n",
      "memory usage: 115.9+ MB\n"
     ]
    }
   ],
   "source": [
    "df.info()"
   ]
  },
  {
   "cell_type": "code",
   "execution_count": 14,
   "metadata": {},
   "outputs": [],
   "source": [
    "df.index = range(df.shape[0])"
   ]
  },
  {
   "cell_type": "code",
   "execution_count": 15,
   "metadata": {},
   "outputs": [],
   "source": [
    "# confere se o dataset não possui dados faltantes\n",
    "assert df.notnull().all().all()"
   ]
  },
  {
   "cell_type": "code",
   "execution_count": 16,
   "metadata": {},
   "outputs": [
    {
     "data": {
      "text/plain": [
       "<matplotlib.axes._subplots.AxesSubplot at 0x7f0408f08c10>"
      ]
     },
     "execution_count": 16,
     "metadata": {},
     "output_type": "execute_result"
    }
   ],
   "source": [
    "import seaborn as sns\n",
    "#df['NOTA_MEDIA'].plot(kind = 'hist', bins = 100)\n",
    "sns.distplot(df['NOTA_MEDIA'], bins=150, hist=True, kde=True)"
   ]
  },
  {
   "cell_type": "code",
   "execution_count": 17,
   "metadata": {},
   "outputs": [
    {
     "data": {
      "text/plain": [
       "<matplotlib.axes._subplots.AxesSubplot at 0x7f03cbaf5890>"
      ]
     },
     "execution_count": 17,
     "metadata": {},
     "output_type": "execute_result"
    },
    {
     "data": {
      "image/png": "[encoded data removed]",
      "text/plain": [
       "<Figure size 720x360 with 1 Axes>"
      ]
     },
     "metadata": {
      "needs_background": "light"
     },
     "output_type": "display_data"
    }
   ],
   "source": [
    "df_uf = df.groupby('SG_UF_RESIDENCIA')\n",
    "df_uf['NOTA_MEDIA'].mean().sort_values().plot(kind = 'bar', figsize = (10,5), ylim = [450,550])"
   ]
  },
  {
   "cell_type": "markdown",
   "metadata": {},
   "source": [
    "### Transformando o dataset de variáveis categóricas para variáveis numéricas para treinamento do modelo (get_dummies)\n",
    "Possíveis features atrapalhando:\n",
    "- SG_UF_RESIDENCIA\n",
    "- IN_TREINEIRO"
   ]
  },
  {
   "cell_type": "code",
   "execution_count": 18,
   "metadata": {},
   "outputs": [],
   "source": [
    "def converte_estado_civil(estado_civil):\n",
    "    if estado_civil == 0:\n",
    "        return 'Solteiro'\n",
    "    elif estado_civil == 1:\n",
    "        return 'Casado'\n",
    "    elif estado_civil == 2:\n",
    "        return 'Divorciado'\n",
    "    elif estado_civil == 3:\n",
    "        return 'Viuvo'\n",
    "    else:\n",
    "        return estado_civil"
   ]
  },
  {
   "cell_type": "code",
   "execution_count": 19,
   "metadata": {},
   "outputs": [],
   "source": [
    "def converte_cor_raca(cor_raca):\n",
    "    if cor_raca == 0:\n",
    "        return 'Nao_declarado'\n",
    "    elif cor_raca == 1:\n",
    "        return 'Branca'\n",
    "    elif cor_raca == 2:\n",
    "        return 'Preta'\n",
    "    elif cor_raca == 3:\n",
    "        return 'Parda'\n",
    "    elif cor_raca == 4:\n",
    "        return 'Amarela'\n",
    "    elif cor_raca == 5:\n",
    "        return 'Indigena'\n",
    "    else:\n",
    "        return cor_raca"
   ]
  },
  {
   "cell_type": "code",
   "execution_count": 20,
   "metadata": {},
   "outputs": [
    {
     "name": "stdout",
     "output_type": "stream",
     "text": [
      "0.0    370722\n",
      "1.0     25142\n",
      "2.0      3483\n",
      "3.0       395\n",
      "Name: TP_ESTADO_CIVIL, dtype: int64\n",
      "\n",
      "\n",
      "3    197335\n",
      "1    132305\n",
      "2     53366\n",
      "4      8825\n",
      "0      5555\n",
      "5      2356\n",
      "Name: TP_COR_RACA, dtype: int64\n",
      "\n",
      "\n",
      "0    399676\n",
      "1        66\n",
      "Name: IN_DEFICIENCIA_MENTAL, dtype: int64\n",
      "\n",
      "\n",
      "0    399531\n",
      "1       211\n",
      "Name: IN_DEFICIT_ATENCAO, dtype: int64\n",
      "\n",
      "\n",
      "0    399714\n",
      "1        28\n",
      "Name: IN_DISLEXIA, dtype: int64\n",
      "\n",
      "\n",
      "0    399703\n",
      "1        39\n",
      "Name: IN_AUTISMO, dtype: int64\n",
      "\n",
      "\n",
      "B    188893\n",
      "A    174314\n",
      "C     26196\n",
      "D      7248\n",
      "E      3091\n",
      "Name: Q024, dtype: int64\n",
      "\n",
      "\n"
     ]
    }
   ],
   "source": [
    "#df['TP_ESTADO_CIVIL'] = df['TP_ESTADO_CIVIL'].apply(converte_estado_civil)\n",
    "print(df.TP_ESTADO_CIVIL.value_counts())\n",
    "print('\\n')\n",
    "#df['TP_COR_RACA'] = df['TP_COR_RACA'].apply(converte_cor_raca)\n",
    "print(df.TP_COR_RACA.value_counts())\n",
    "print('\\n')\n",
    "print(df.IN_DEFICIENCIA_MENTAL.value_counts())\n",
    "print('\\n')\n",
    "print(df.IN_DEFICIT_ATENCAO.value_counts())\n",
    "print('\\n')\n",
    "print(df.IN_DISLEXIA.value_counts())\n",
    "print('\\n')\n",
    "print(df.IN_AUTISMO.value_counts())\n",
    "print('\\n')\n",
    "print(df.Q024.value_counts())\n",
    "print('\\n')"
   ]
  },
  {
   "cell_type": "code",
   "execution_count": 21,
   "metadata": {},
   "outputs": [],
   "source": [
    "dummies_columns = [\n",
    "    'SG_UF_RESIDENCIA',\n",
    "    'TP_SEXO', \n",
    "    'TP_ESTADO_CIVIL', \n",
    "    'TP_COR_RACA', \n",
    "    'TP_ST_CONCLUSAO', \n",
    "    'TP_ANO_CONCLUIU', \n",
    "    'TP_ESCOLA',\n",
    "    'TP_ENSINO',\n",
    "    'TP_LOCALIZACAO_ESC',\n",
    "    'Q001',\n",
    "    'Q002',\n",
    "    'Q003',\n",
    "    'Q004',\n",
    "    'Q005',\n",
    "    'Q006',\n",
    "    'Q007',\n",
    "    #'Q008',\n",
    "    #'Q009',\n",
    "    'Q010',\n",
    "    'Q011',\n",
    "    'Q012',\n",
    "    #'Q013',\n",
    "    #'Q014',\n",
    "    #'Q015',\n",
    "    #'Q016',\n",
    "    #'Q017',\n",
    "    #'Q018',\n",
    "    #'Q019',\n",
    "    #'Q020',\n",
    "    #'Q021',\n",
    "    #'Q022',\n",
    "    #'Q023',\n",
    "    'Q024',\n",
    "    'Q025',\n",
    "    #'Q026',\n",
    "    'Q027'\n",
    "                ]"
   ]
  },
  {
   "cell_type": "code",
   "execution_count": 22,
   "metadata": {},
   "outputs": [],
   "source": [
    "df = pd.get_dummies(df, columns = dummies_columns, prefix = dummies_columns, drop_first = True)"
   ]
  },
  {
   "cell_type": "code",
   "execution_count": 23,
   "metadata": {},
   "outputs": [
    {
     "data": {
      "text/html": [
       "<div>\n",
       "<style scoped>\n",
       "    .dataframe tbody tr th:only-of-type {\n",
       "        vertical-align: middle;\n",
       "    }\n",
       "\n",
       "    .dataframe tbody tr th {\n",
       "        vertical-align: top;\n",
       "    }\n",
       "\n",
       "    .dataframe thead th {\n",
       "        text-align: right;\n",
       "    }\n",
       "</style>\n",
       "<table border=\"1\" class=\"dataframe\">\n",
       "  <thead>\n",
       "    <tr style=\"text-align: right;\">\n",
       "      <th></th>\n",
       "      <th>NU_IDADE</th>\n",
       "      <th>IN_TREINEIRO</th>\n",
       "      <th>IN_DEFICIENCIA_MENTAL</th>\n",
       "      <th>IN_DEFICIT_ATENCAO</th>\n",
       "      <th>IN_DISLEXIA</th>\n",
       "      <th>IN_DISCALCULIA</th>\n",
       "      <th>IN_AUTISMO</th>\n",
       "      <th>IN_SEM_RECURSO</th>\n",
       "      <th>NU_NOTA_CN</th>\n",
       "      <th>NU_NOTA_CH</th>\n",
       "      <th>...</th>\n",
       "      <th>Q024_B</th>\n",
       "      <th>Q024_C</th>\n",
       "      <th>Q024_D</th>\n",
       "      <th>Q024_E</th>\n",
       "      <th>Q025_B</th>\n",
       "      <th>Q027_B</th>\n",
       "      <th>Q027_C</th>\n",
       "      <th>Q027_D</th>\n",
       "      <th>Q027_E</th>\n",
       "      <th>Q027_F</th>\n",
       "    </tr>\n",
       "  </thead>\n",
       "  <tbody>\n",
       "    <tr>\n",
       "      <td>0</td>\n",
       "      <td>17.0</td>\n",
       "      <td>0</td>\n",
       "      <td>0</td>\n",
       "      <td>0</td>\n",
       "      <td>0</td>\n",
       "      <td>0</td>\n",
       "      <td>0</td>\n",
       "      <td>0</td>\n",
       "      <td>431.8</td>\n",
       "      <td>529.5</td>\n",
       "      <td>...</td>\n",
       "      <td>0</td>\n",
       "      <td>0</td>\n",
       "      <td>0</td>\n",
       "      <td>0</td>\n",
       "      <td>0</td>\n",
       "      <td>0</td>\n",
       "      <td>1</td>\n",
       "      <td>0</td>\n",
       "      <td>0</td>\n",
       "      <td>0</td>\n",
       "    </tr>\n",
       "    <tr>\n",
       "      <td>1</td>\n",
       "      <td>17.0</td>\n",
       "      <td>0</td>\n",
       "      <td>0</td>\n",
       "      <td>0</td>\n",
       "      <td>0</td>\n",
       "      <td>0</td>\n",
       "      <td>0</td>\n",
       "      <td>0</td>\n",
       "      <td>699.5</td>\n",
       "      <td>699.0</td>\n",
       "      <td>...</td>\n",
       "      <td>0</td>\n",
       "      <td>1</td>\n",
       "      <td>0</td>\n",
       "      <td>0</td>\n",
       "      <td>1</td>\n",
       "      <td>0</td>\n",
       "      <td>0</td>\n",
       "      <td>0</td>\n",
       "      <td>0</td>\n",
       "      <td>0</td>\n",
       "    </tr>\n",
       "    <tr>\n",
       "      <td>2</td>\n",
       "      <td>18.0</td>\n",
       "      <td>0</td>\n",
       "      <td>0</td>\n",
       "      <td>0</td>\n",
       "      <td>0</td>\n",
       "      <td>0</td>\n",
       "      <td>0</td>\n",
       "      <td>0</td>\n",
       "      <td>541.6</td>\n",
       "      <td>631.9</td>\n",
       "      <td>...</td>\n",
       "      <td>1</td>\n",
       "      <td>0</td>\n",
       "      <td>0</td>\n",
       "      <td>0</td>\n",
       "      <td>1</td>\n",
       "      <td>0</td>\n",
       "      <td>0</td>\n",
       "      <td>0</td>\n",
       "      <td>0</td>\n",
       "      <td>0</td>\n",
       "    </tr>\n",
       "    <tr>\n",
       "      <td>3</td>\n",
       "      <td>19.0</td>\n",
       "      <td>0</td>\n",
       "      <td>0</td>\n",
       "      <td>0</td>\n",
       "      <td>0</td>\n",
       "      <td>0</td>\n",
       "      <td>0</td>\n",
       "      <td>0</td>\n",
       "      <td>557.0</td>\n",
       "      <td>657.7</td>\n",
       "      <td>...</td>\n",
       "      <td>1</td>\n",
       "      <td>0</td>\n",
       "      <td>0</td>\n",
       "      <td>0</td>\n",
       "      <td>1</td>\n",
       "      <td>0</td>\n",
       "      <td>0</td>\n",
       "      <td>0</td>\n",
       "      <td>0</td>\n",
       "      <td>0</td>\n",
       "    </tr>\n",
       "    <tr>\n",
       "      <td>4</td>\n",
       "      <td>18.0</td>\n",
       "      <td>0</td>\n",
       "      <td>0</td>\n",
       "      <td>0</td>\n",
       "      <td>0</td>\n",
       "      <td>0</td>\n",
       "      <td>0</td>\n",
       "      <td>0</td>\n",
       "      <td>612.6</td>\n",
       "      <td>639.4</td>\n",
       "      <td>...</td>\n",
       "      <td>0</td>\n",
       "      <td>1</td>\n",
       "      <td>0</td>\n",
       "      <td>0</td>\n",
       "      <td>1</td>\n",
       "      <td>0</td>\n",
       "      <td>0</td>\n",
       "      <td>1</td>\n",
       "      <td>0</td>\n",
       "      <td>0</td>\n",
       "    </tr>\n",
       "  </tbody>\n",
       "</table>\n",
       "<p>5 rows × 149 columns</p>\n",
       "</div>"
      ],
      "text/plain": [
       "   NU_IDADE  IN_TREINEIRO  IN_DEFICIENCIA_MENTAL  IN_DEFICIT_ATENCAO  \\\n",
       "0      17.0             0                      0                   0   \n",
       "1      17.0             0                      0                   0   \n",
       "2      18.0             0                      0                   0   \n",
       "3      19.0             0                      0                   0   \n",
       "4      18.0             0                      0                   0   \n",
       "\n",
       "   IN_DISLEXIA  IN_DISCALCULIA  IN_AUTISMO  IN_SEM_RECURSO  NU_NOTA_CN  \\\n",
       "0            0               0           0               0       431.8   \n",
       "1            0               0           0               0       699.5   \n",
       "2            0               0           0               0       541.6   \n",
       "3            0               0           0               0       557.0   \n",
       "4            0               0           0               0       612.6   \n",
       "\n",
       "   NU_NOTA_CH  ...  Q024_B  Q024_C  Q024_D  Q024_E  Q025_B  Q027_B  Q027_C  \\\n",
       "0       529.5  ...       0       0       0       0       0       0       1   \n",
       "1       699.0  ...       0       1       0       0       1       0       0   \n",
       "2       631.9  ...       1       0       0       0       1       0       0   \n",
       "3       657.7  ...       1       0       0       0       1       0       0   \n",
       "4       639.4  ...       0       1       0       0       1       0       0   \n",
       "\n",
       "   Q027_D  Q027_E  Q027_F  \n",
       "0       0       0       0  \n",
       "1       0       0       0  \n",
       "2       0       0       0  \n",
       "3       0       0       0  \n",
       "4       1       0       0  \n",
       "\n",
       "[5 rows x 149 columns]"
      ]
     },
     "execution_count": 23,
     "metadata": {},
     "output_type": "execute_result"
    }
   ],
   "source": [
    "df.head()"
   ]
  },
  {
   "cell_type": "markdown",
   "metadata": {},
   "source": [
    "### Categoriza o desempenho médio dos alunos em A B C D (3, 2, 1, 0)"
   ]
  },
  {
   "cell_type": "code",
   "execution_count": 24,
   "metadata": {},
   "outputs": [],
   "source": [
    "nota_q1, nota_q2, nota_q3 = df['NOTA_MEDIA'].quantile([.25, .5, .75])\n",
    "nota_q1 = 480\n",
    "nota_q2 = 570\n",
    "nota_q3 = 660"
   ]
  },
  {
   "cell_type": "code",
   "execution_count": 25,
   "metadata": {},
   "outputs": [],
   "source": [
    "def classe_abcd(nota_media, q1, q2, q3):\n",
    "    if nota_media < q1:\n",
    "        return '0'\n",
    "    elif nota_media < q2:\n",
    "        return '1'\n",
    "    elif nota_media < q3:\n",
    "        return '2'\n",
    "    else:\n",
    "        return '3'"
   ]
  },
  {
   "cell_type": "code",
   "execution_count": 26,
   "metadata": {},
   "outputs": [],
   "source": [
    "df['CLASSE_NOTA'] = df.apply(lambda x: classe_abcd(x['NOTA_MEDIA'], nota_q1, nota_q2, nota_q3), axis=1)"
   ]
  },
  {
   "cell_type": "code",
   "execution_count": 27,
   "metadata": {
    "scrolled": true
   },
   "outputs": [
    {
     "data": {
      "text/plain": [
       "1    166006\n",
       "0    121270\n",
       "2     83463\n",
       "3     29003\n",
       "Name: CLASSE_NOTA, dtype: int64"
      ]
     },
     "execution_count": 27,
     "metadata": {},
     "output_type": "execute_result"
    }
   ],
   "source": [
    "df['CLASSE_NOTA'].value_counts()"
   ]
  },
  {
   "cell_type": "code",
   "execution_count": 28,
   "metadata": {},
   "outputs": [
    {
     "name": "stdout",
     "output_type": "stream",
     "text": [
      "<class 'pandas.core.frame.DataFrame'>\n",
      "RangeIndex: 399742 entries, 0 to 399741\n",
      "Columns: 150 entries, NU_IDADE to CLASSE_NOTA\n",
      "dtypes: float64(7), int64(8), object(1), uint8(134)\n",
      "memory usage: 99.9+ MB\n"
     ]
    }
   ],
   "source": [
    "df.info()"
   ]
  },
  {
   "cell_type": "markdown",
   "metadata": {},
   "source": [
    "### Separando dados X e dados Target"
   ]
  },
  {
   "cell_type": "code",
   "execution_count": 29,
   "metadata": {},
   "outputs": [],
   "source": [
    "columns_to_drop_x = ['NU_NOTA_CN', 'NU_NOTA_CH', 'NU_NOTA_LC', 'NU_NOTA_MT', 'NU_NOTA_REDACAO', 'NOTA_MEDIA', 'CLASSE_NOTA']\n",
    "X = df.drop(columns_to_drop_x, axis=1).values\n",
    "Y = df['CLASSE_NOTA'].values"
   ]
  },
  {
   "cell_type": "code",
   "execution_count": 30,
   "metadata": {},
   "outputs": [
    {
     "data": {
      "text/plain": [
       "(399742, 143)"
      ]
     },
     "execution_count": 30,
     "metadata": {},
     "output_type": "execute_result"
    }
   ],
   "source": [
    "X.shape"
   ]
  },
  {
   "cell_type": "code",
   "execution_count": 31,
   "metadata": {},
   "outputs": [
    {
     "data": {
      "text/plain": [
       "(399742,)"
      ]
     },
     "execution_count": 31,
     "metadata": {},
     "output_type": "execute_result"
    }
   ],
   "source": [
    "Y.shape"
   ]
  },
  {
   "cell_type": "code",
   "execution_count": 32,
   "metadata": {},
   "outputs": [
    {
     "data": {
      "text/plain": [
       "array([17.,  0.,  0.,  0.,  0.,  0.,  0.,  0.,  1.,  0.,  0.,  0.,  0.,\n",
       "        0.,  0.,  0.,  0.,  0.,  0.,  0.,  0.,  0.,  0.,  1.,  0.,  0.,\n",
       "        0.,  0.,  0.,  0.,  0.,  0.,  0.,  0.,  0.,  0.,  0.,  0.,  0.,\n",
       "        1.,  0.,  0.,  0.,  0.,  1.,  0.,  0.,  0.,  0.,  0.,  0.,  0.,\n",
       "        0.,  0.,  0.,  0.,  0.,  0.,  0.,  1.,  0.,  0.,  0.,  0.,  0.,\n",
       "        0.,  1.,  0.,  0.,  0.,  0.,  1.,  0.,  0.,  0.,  1.,  0.,  0.,\n",
       "        0.,  1.,  0.,  0.,  0.,  0.,  0.,  1.,  0.,  0.,  0.,  0.,  0.,\n",
       "        0.,  0.,  0.,  0.,  0.,  0.,  0.,  0.,  0.,  0.,  0.,  0.,  0.,\n",
       "        0.,  1.,  0.,  0.,  0.,  0.,  0.,  0.,  0.,  0.,  0.,  0.,  0.,\n",
       "        0.,  0.,  0.,  0.,  0.,  1.,  0.,  0.,  0.,  0.,  0.,  0.,  1.,\n",
       "        0.,  0.,  0.,  1.,  0.,  0.,  0.,  1.,  1.,  0.,  0.,  0.,  0.])"
      ]
     },
     "execution_count": 32,
     "metadata": {},
     "output_type": "execute_result"
    }
   ],
   "source": [
    "X[100]"
   ]
  },
  {
   "cell_type": "markdown",
   "metadata": {},
   "source": [
    "### Separando dados em treino e teste"
   ]
  },
  {
   "cell_type": "code",
   "execution_count": 33,
   "metadata": {},
   "outputs": [],
   "source": [
    "from sklearn.model_selection import train_test_split\n",
    "\n",
    "X_train, X_test, Y_train, Y_test = train_test_split(X, Y, test_size = 0.2)"
   ]
  },
  {
   "cell_type": "code",
   "execution_count": 34,
   "metadata": {},
   "outputs": [
    {
     "name": "stdout",
     "output_type": "stream",
     "text": [
      "X_train shape:  (319793, 143)\n",
      "Y_train shape:  (319793,)\n",
      "X_test shape:  (79949, 143)\n",
      "Y_test shape:  (79949,)\n"
     ]
    }
   ],
   "source": [
    "print(\"X_train shape: \", X_train.shape)\n",
    "print(\"Y_train shape: \", Y_train.shape)\n",
    "\n",
    "print(\"X_test shape: \", X_test.shape)\n",
    "print(\"Y_test shape: \", Y_test.shape)"
   ]
  },
  {
   "cell_type": "markdown",
   "metadata": {},
   "source": [
    "### Treinando o modelo Decision Tree Classification"
   ]
  },
  {
   "cell_type": "code",
   "execution_count": 35,
   "metadata": {},
   "outputs": [],
   "source": [
    "# Load libraries\n",
    "from sklearn.tree import DecisionTreeClassifier # Import Decision Tree Classifier\n",
    "from sklearn import metrics #Import scikit-learn metrics module for accuracy calculation\n",
    "from sklearn.model_selection import GridSearchCV\n",
    "from sklearn.model_selection import RandomizedSearchCV\n",
    "from scipy.stats import randint"
   ]
  },
  {
   "cell_type": "markdown",
   "metadata": {},
   "source": [
    "### Randomized Search\n",
    "Uma árvore de decisão envolve muitos parâmetros. Dentre eles:\n",
    "- max_depth: qual altura máxima a partir do nó a árvore deve ter?\n",
    "- min_samples_leaf: o menor valor de amostras necessárias para dividir um nó interno\n",
    "- critrerion: uma função que mede a qualidade de uma divisão. 'gini' ou 'entropy'\n",
    "- max_features: número máximo de atributos da amostra utilizados para a melhor divisão\n",
    "    \n",
    " Dado o grande volume de dados e hiperparâmetros utilizou-se de uma técnica 'RandomizedSearch' em que se criam ranges de hiperparâmetros e o classificador é treinado de forma aleatória utilizando validação cruzada (nesta caso, k fold de 5 pastas) e partir da combinação de hiperparâmetros definidos"
   ]
  },
  {
   "cell_type": "code",
   "execution_count": 39,
   "metadata": {},
   "outputs": [
    {
     "name": "stdout",
     "output_type": "stream",
     "text": [
      "Tuned Decision Tree Parameters: {'splitter': 'best', 'min_samples_leaf': 1000, 'max_features': 18, 'max_depth': 24, 'criterion': 'gini'}\n",
      "Best score is 0.46561369385821455\n"
     ]
    }
   ],
   "source": [
    "# Setup the parameters and distributions to sample from: param_dist\n",
    "param_dist = {\"max_depth\": np.arange(1, 25, 1),\n",
    "              \"max_features\": np.arange(3, 25, 1),\n",
    "              \"min_samples_leaf\": [1000, 2000, 5000],\n",
    "              \"criterion\": [\"gini\", \"entropy\"],\n",
    "              \"splitter\": ['best', 'random']}\n",
    "\n",
    "# Instantiate a Decision Tree classifier: tree\n",
    "tree = DecisionTreeClassifier()\n",
    "\n",
    "# Instantiate the RandomizedSearchCV object: tree_cv\n",
    "tree_cv = RandomizedSearchCV(tree, param_dist, cv =5)\n",
    "\n",
    "# Fit it to the data\n",
    "tree_cv.fit(X_train, Y_train)\n",
    "\n",
    "# Print the tuned parameters and score\n",
    "print(\"Tuned Decision Tree Parameters: {}\".format(tree_cv.best_params_))\n",
    "print(\"Best score is {}\".format(tree_cv.best_score_))\n",
    "\n",
    "#Predict the response for test dataset\n",
    "#y_pred = clf.predict(X_test)"
   ]
  },
  {
   "cell_type": "code",
   "execution_count": 38,
   "metadata": {},
   "outputs": [
    {
     "data": {
      "text/plain": [
       "11.958260743101398"
      ]
     },
     "execution_count": 38,
     "metadata": {},
     "output_type": "execute_result"
    }
   ],
   "source": [
    "np.sqrt(X_train.shape[1])"
   ]
  },
  {
   "cell_type": "code",
   "execution_count": 40,
   "metadata": {},
   "outputs": [],
   "source": [
    "tree = DecisionTreeClassifier(splitter = 'random', criterion = 'gini', max_features = 67, max_depth = 28, min_samples_leaf = 137)\n",
    "tree.fit(X_train, Y_train)\n",
    "y_pred = tree.predict(X_test)"
   ]
  },
  {
   "cell_type": "code",
   "execution_count": 41,
   "metadata": {},
   "outputs": [
    {
     "name": "stdout",
     "output_type": "stream",
     "text": [
      "Accuracy: 0.47675393063077715\n"
     ]
    }
   ],
   "source": [
    "# Model Accuracy, how often is the classifier correct?\n",
    "print(\"Accuracy:\",metrics.accuracy_score(Y_test, y_pred))"
   ]
  },
  {
   "cell_type": "code",
   "execution_count": null,
   "metadata": {},
   "outputs": [],
   "source": [
    "print(Y_test[:10])\n",
    "print(y_pred[:10])"
   ]
  },
  {
   "cell_type": "code",
   "execution_count": null,
   "metadata": {},
   "outputs": [],
   "source": [
    "print(nota_q1, nota_q2, nota_q3)"
   ]
  },
  {
   "cell_type": "markdown",
   "metadata": {},
   "source": [
    "### Geração do diagrama da Árvore de decisão"
   ]
  },
  {
   "cell_type": "code",
   "execution_count": null,
   "metadata": {},
   "outputs": [],
   "source": [
    "#!pip install pydotplus\n",
    "#!pip install graphviz\n",
    "from sklearn.externals.six import StringIO  \n",
    "from IPython.display import Image  \n",
    "from sklearn.tree import export_graphviz\n",
    "import pydotplus\n",
    "dot_data = StringIO()\n",
    "feature_cols = df.drop(columns_to_drop_x, axis=1).columns\n",
    "export_graphviz(tree, out_file=dot_data,  \n",
    "                filled=True, rounded=True,\n",
    "                special_characters=True, feature_names = feature_cols,class_names=['D','C', 'B', 'A'])\n",
    "graph = pydotplus.graph_from_dot_data(dot_data.getvalue())  \n",
    "graph.write_png('tree-ENEM.png')\n",
    "Image(graph.create_png())"
   ]
  },
  {
   "cell_type": "markdown",
   "metadata": {},
   "source": [
    "### Modelo de RandomForest"
   ]
  },
  {
   "cell_type": "code",
   "execution_count": 43,
   "metadata": {},
   "outputs": [
    {
     "name": "stderr",
     "output_type": "stream",
     "text": [
      "/home/semissatto/anaconda3/lib/python3.7/site-packages/sklearn/ensemble/forest.py:245: FutureWarning: The default value of n_estimators will change from 10 in version 0.20 to 100 in 0.22.\n",
      "  \"10 in version 0.20 to 100 in 0.22.\", FutureWarning)\n"
     ]
    },
    {
     "name": "stdout",
     "output_type": "stream",
     "text": [
      "Tuned Decision Tree Parameters: {'n_estimators': 105, 'min_samples_leaf': 1000, 'max_features': 21, 'max_depth': 13, 'criterion': 'gini'}\n",
      "Best score is 0.4788785245455654\n"
     ]
    }
   ],
   "source": [
    "#Import Random Forest Model\n",
    "from sklearn.ensemble import RandomForestClassifier\n",
    "\n",
    "#Create a Gaussian Classifier\n",
    "clf = RandomForestClassifier()\n",
    "\n",
    "#Train the model using the training sets y_pred=clf.predict(X_test)\n",
    "clf.fit(X_train,Y_train)\n",
    "\n",
    "y_pred = clf.predict(X_test)\n",
    "\n",
    "\n",
    "param_dist = {\"n_estimators\": np.arange(100, 120, 1),\n",
    "              \"max_depth\": np.arange(1, 15, 1),\n",
    "              \"max_features\": np.arange(3, 25, 1),\n",
    "              \"min_samples_leaf\": [1000, 2000, 5000],\n",
    "              \"criterion\": [\"gini\", \"entropy\"]}\n",
    "\n",
    "# Instantiate the RandomizedSearchCV object: tree_cv\n",
    "clf_cv = RandomizedSearchCV(clf, param_dist, cv =5)\n",
    "\n",
    "# Fit it to the data\n",
    "clf_cv.fit(X_train, Y_train)\n",
    "\n",
    "# Print the tuned parameters and score\n",
    "print(\"Tuned Decision Tree Parameters: {}\".format(clf_cv.best_params_))\n",
    "print(\"Best score is {}\".format(clf_cv.best_score_))"
   ]
  },
  {
   "cell_type": "code",
   "execution_count": null,
   "metadata": {},
   "outputs": [],
   "source": [
    "#clf = RandomForestClassifier() #put best best parameters here\n",
    "#clf.fit(X_train,Y_train)\n",
    "#y_pred = clf.predict(X_test)"
   ]
  },
  {
   "cell_type": "code",
   "execution_count": null,
   "metadata": {},
   "outputs": [],
   "source": [
    "#Import scikit-learn metrics module for accuracy calculation\n",
    "from sklearn import metrics\n",
    "# Model Accuracy, how often is the classifier correct?\n",
    "print(\"Accuracy:\",metrics.accuracy_score(Y_test, y_pred))"
   ]
  }
 ],
 "metadata": {
  "kernelspec": {
   "display_name": "Python 3",
   "language": "python",
   "name": "python3"
  },
  "language_info": {
   "codemirror_mode": {
    "name": "ipython",
    "version": 3
   },
   "file_extension": ".py",
   "mimetype": "text/x-python",
   "name": "python",
   "nbconvert_exporter": "python",
   "pygments_lexer": "ipython3",
   "version": "3.7.4"
  }
 },
 "nbformat": 4,
 "nbformat_minor": 2
}
