{
 "cells": [
  {
   "cell_type": "markdown",
   "metadata": {},
   "source": [
    "# CLASSIFICAÇÃO MULTICLASSE - K-Nearest Neighbors (kNN)\n",
    "### Problema: dentificação de atividade humana usando dados de smartphones\n",
    "\n",
    "- Guilherme Teixeira Semissatto\n",
    "- RA: 140656\n",
    "- semissatto@gmail.com"
   ]
  },
  {
   "cell_type": "code",
   "execution_count": 1,
   "metadata": {},
   "outputs": [],
   "source": [
    "import pandas as pd\n",
    "import numpy as np\n",
    "import matplotlib.pyplot as plt"
   ]
  },
  {
   "cell_type": "code",
   "execution_count": 2,
   "metadata": {},
   "outputs": [],
   "source": [
    "trainX_df = pd.read_fwf('./Dados/har_smartphone/X_train.txt', header = None)\n",
    "testX_df = pd.read_fwf('./Dados/har_smartphone/X_test.txt', header = None)\n",
    "trainY_df = pd.read_csv('./Dados/har_smartphone/y_train.txt', header = None)\n",
    "testY_df = pd.read_csv('./Dados/har_smartphone/y_test.txt', header = None)"
   ]
  },
  {
   "cell_type": "code",
   "execution_count": 3,
   "metadata": {},
   "outputs": [
    {
     "name": "stdout",
     "output_type": "stream",
     "text": [
      "(2947, 561) (7352, 561) (7352, 1) (2947, 1)\n"
     ]
    }
   ],
   "source": [
    "print (testX_df.shape, trainX_df.shape, trainY_df.shape, testY_df.shape)"
   ]
  },
  {
   "cell_type": "code",
   "execution_count": 4,
   "metadata": {},
   "outputs": [
    {
     "name": "stdout",
     "output_type": "stream",
     "text": [
      "(2947, 561) (7352, 561) (7352, 1) (2947, 1)\n"
     ]
    }
   ],
   "source": [
    "trainX = trainX_df.values\n",
    "trainY = trainY_df.values\n",
    "testX = testX_df.values\n",
    "testY = testY_df.values\n",
    "print (testX.shape, trainX.shape, trainY.shape, testY.shape)"
   ]
  },
  {
   "cell_type": "code",
   "execution_count": 5,
   "metadata": {},
   "outputs": [],
   "source": [
    "''' subtrai 1 dos valores de saída para ficar de acordo com o enunciado que segue:\n",
    "# 0 – caminhada; 1 – subindo escadas;\n",
    "# 2 – descendo escadas; 3 – sentado; \n",
    "# 4 – em pé; 5 – deitado '''\n",
    "\n",
    "for i in range(len(trainY)):\n",
    "    trainY[i] = trainY[i] - 1\n",
    "\n",
    "for i in range(len(testY)):\n",
    "    testY[i] = testY[i] - 1"
   ]
  },
  {
   "cell_type": "markdown",
   "metadata": {},
   "source": [
    "### kNN pseudo-código\n",
    "- 1. Load the Data.\n",
    "- 2. Initialize the value of K.\n",
    "- 3. For predicting the output class for the test data, iterate from 1st data point to the total number of data points.\n",
    "      -  Calculate distance between test data and each row of training data by the help of euclidean distance.\n",
    "      -  Sort the calculated distance in ascending order.\n",
    "      -  Get the top K rows from the sorted array.\n",
    "      -  Now find out the most frequent class of the rows.\n",
    "      -  Return the predicted class for the test data."
   ]
  },
  {
   "cell_type": "code",
   "execution_count": 6,
   "metadata": {},
   "outputs": [],
   "source": [
    "def euclidian_distance(x_test, x_train):\n",
    "    ''' Calcula as distâncias entre a instância de teste e os dados bases '''\n",
    "    dist = 0\n",
    "    dist = np.square(x_test - x_train)\n",
    "    row_sum = np.sum(dist, axis = 1).reshape(1, -1) \n",
    "    return np.sqrt(row_sum)"
   ]
  },
  {
   "cell_type": "code",
   "execution_count": 7,
   "metadata": {},
   "outputs": [],
   "source": [
    "def get_lowest_dist_indexes(array, k):\n",
    "    return np.argsort(array)[0][:k]"
   ]
  },
  {
   "cell_type": "code",
   "execution_count": 8,
   "metadata": {},
   "outputs": [],
   "source": [
    "def get_labels(indexes, y):\n",
    "    ''' Obtém a classe correspondente a partir do index '''\n",
    "    labels = np.zeros(len(indexes))\n",
    "    for i in range(len(indexes)):\n",
    "        labels[i] = y[indexes[i]]\n",
    "    return labels"
   ]
  },
  {
   "cell_type": "code",
   "execution_count": 9,
   "metadata": {},
   "outputs": [],
   "source": [
    "from scipy import stats\n",
    "def winner_class(labels):\n",
    "    ''' Retorna a classe mais frequente dos k-vizinhos '''\n",
    "    return int(stats.mode(labels)[0])"
   ]
  },
  {
   "cell_type": "code",
   "execution_count": 10,
   "metadata": {},
   "outputs": [],
   "source": [
    "def print_error(ŷ, y):\n",
    "    ''' Imprime na tela as taxas de acerto/erro de classificação '''\n",
    "    acerto = 0\n",
    "    erro = 0\n",
    "    for i in range(len(ŷ)):\n",
    "        if int(ŷ[i]) == int(y[i]):\n",
    "            acerto += 1\n",
    "        else:\n",
    "            erro += 1\n",
    "    print(\"acertos:\\t\", acerto, \"\\nerros:\\t\\t\", erro, \"\\nerro(%):\\t\", 100*erro/(acerto+erro))\n",
    "    \n",
    "def calc_error(ŷ, y):\n",
    "    ''' Retorna a taxa de erro '''\n",
    "    acerto = 0\n",
    "    erro = 0\n",
    "    for i in range(len(ŷ)):\n",
    "        if int(ŷ[i]) == int(y[i]):\n",
    "            acerto += 1\n",
    "        else:\n",
    "            erro += 1\n",
    "    return erro/(acerto+erro)"
   ]
  },
  {
   "cell_type": "code",
   "execution_count": 11,
   "metadata": {},
   "outputs": [],
   "source": [
    "def zero_one_loss(y, ŷ):\n",
    "    ''' Calcula quão diferente está a estimativa de classe da classe real\n",
    "        a partir da norma do vetor diferença (esperado - estimado)'''\n",
    "    diff = (y - ŷ)\n",
    "    norma = np.dot(diff.T, diff)/2\n",
    "    soma_linha = np.sum(abs(norma), axis = 1)\n",
    "    total_error = np.sum(soma_linha)\n",
    "    loss = total_error/len(y)\n",
    "    return loss"
   ]
  },
  {
   "cell_type": "code",
   "execution_count": 12,
   "metadata": {},
   "outputs": [],
   "source": [
    "def one_hot_encoder(data):\n",
    "    ''' Recebe dados categorizados (inteiros) e retorna um vetor one-hot. Exemplo [3]-> [0, 0, 0, 1, 0, 0]'''\n",
    "    encoded = np.matrix(np.zeros(len(data)*int(max(data)+1))).reshape((len(data), int(max(data)+1)))\n",
    "    for i in range(len(data)):\n",
    "        max_index = data[i]\n",
    "        encoded[i, max_index] = 1\n",
    "    return encoded"
   ]
  },
  {
   "cell_type": "code",
   "execution_count": 13,
   "metadata": {},
   "outputs": [],
   "source": [
    "def one_hot_decoder(data):\n",
    "    ''' Recebe vetor one-hot e converte para categoria. Exemplo [0, 0, 0, 1, 0, 0] -> [3]'''\n",
    "    decoded = np.zeros(data.shape[0]).reshape(-1,1)\n",
    "    for i in range(len(data)):\n",
    "        decoded[i] = np.argmax(data[i])\n",
    "    return decoded     "
   ]
  },
  {
   "cell_type": "markdown",
   "metadata": {},
   "source": [
    "### Geração da matriz de distâncias\n",
    "- Para obter os vizinhos mais próximos, calcula-se, para cada amostra de teste, todas distâncias desta amostra para todos pontos do dataset de treino\n",
    "- o código abaixo tem como resultado uma matriz NxM, sendo N o número de amostras de teste e M o número de amostras de treino\n",
    "- o $N_t_h,M_t_h$ elemento é a distância da amostra de teste N para a amostra M do dataset de treino"
   ]
  },
  {
   "cell_type": "code",
   "execution_count": 14,
   "metadata": {},
   "outputs": [],
   "source": [
    "number_of_features = trainX.shape[1]\n",
    "m = trainX.shape[0]\n",
    "n = testX.shape[0]\n",
    "dists = [] # dists será uma matrix n x m\n",
    "\n",
    "for i in range(n):\n",
    "    dists.append(euclidian_distance(testX[i], trainX))"
   ]
  },
  {
   "cell_type": "code",
   "execution_count": 15,
   "metadata": {},
   "outputs": [],
   "source": [
    "k_neighbors = np.arange(1, 100, 2)\n",
    "ŷ = np.zeros(n, dtype = np.int8)\n",
    "errors = []\n",
    "losses = []\n",
    "\n",
    "for k in range(len(k_neighbors)):    \n",
    "    for i in range(n):\n",
    "        lowest_idx = get_lowest_dist_indexes(dists[i], k_neighbors[k])\n",
    "        lowest_labels = get_labels(lowest_idx, trainY)\n",
    "        ŷ[i] = winner_class(lowest_labels)\n",
    "    \n",
    "    error = calc_error(ŷ, testY)\n",
    "    errors.append(error)\n",
    "    y_dec = one_hot_encoder(testY)\n",
    "    ŷ_dec = one_hot_encoder(ŷ)\n",
    "    loss = zero_one_loss(y_dec, ŷ_dec)\n",
    "    losses.append(loss)"
   ]
  },
  {
   "cell_type": "code",
   "execution_count": 16,
   "metadata": {},
   "outputs": [
    {
     "data": {
      "image/png": "[encoded data removed]",
      "text/plain": [
       "<Figure size 432x288 with 1 Axes>"
      ]
     },
     "metadata": {
      "needs_background": "light"
     },
     "output_type": "display_data"
    }
   ],
   "source": [
    "errors = np.array(errors)\n",
    "plt.plot(k_neighbors, 100*errors, color = \"darkorange\")\n",
    "plt.xticks(np.arange(0,105,5))\n",
    "plt.xlabel(\"K\")\n",
    "plt.ylabel(\"Taxa de erro (%)\")\n",
    "plt.title(\"Progressão de Taxa de Erro (%)\")\n",
    "plt.grid(True)"
   ]
  },
  {
   "cell_type": "code",
   "execution_count": 17,
   "metadata": {},
   "outputs": [
    {
     "data": {
      "image/png": "[encoded data removed]",
      "text/plain": [
       "<Figure size 432x288 with 1 Axes>"
      ]
     },
     "metadata": {
      "needs_background": "light"
     },
     "output_type": "display_data"
    }
   ],
   "source": [
    "losses = np.array(losses)\n",
    "plt.plot(k_neighbors, losses, color = \"darkorange\")\n",
    "plt.xticks(np.arange(0,105,5))\n",
    "plt.xlabel(\"K\")\n",
    "plt.ylabel(\"One Zero Loss\")\n",
    "plt.title(\"Progressão de One Zero Loss\")\n",
    "plt.grid(True)"
   ]
  },
  {
   "cell_type": "code",
   "execution_count": 18,
   "metadata": {},
   "outputs": [
    {
     "name": "stdout",
     "output_type": "stream",
     "text": [
      "len(errors):  50\n",
      "argmin(errors):  4\n",
      "errors(argmin(erros)):  0.09399389209365457\n",
      "k_neighbors(argmin(erros)):  9\n"
     ]
    }
   ],
   "source": [
    "errors = np.array(errors)\n",
    "print(\"len(errors): \", len(errors))\n",
    "print(\"argmin(errors): \", np.argmin(errors))\n",
    "print(\"errors(argmin(erros)): \", errors[np.argmin(errors)])\n",
    "print(\"k_neighbors(argmin(erros)): \", k_neighbors[np.argmin(errors)])"
   ]
  },
  {
   "cell_type": "markdown",
   "metadata": {},
   "source": [
    "### Do resultado acima, observamos que o melhor valor de k-vizinhos é 9. Vamos avaliar as métricas de `taxa de erro (%)` e sua `matriz de confusão`:"
   ]
  },
  {
   "cell_type": "code",
   "execution_count": 19,
   "metadata": {},
   "outputs": [],
   "source": [
    "for i in range(n):\n",
    "    lowest_idx = get_lowest_dist_indexes(dists[i], 9)\n",
    "    lowest_labels = get_labels(lowest_idx, trainY)\n",
    "    ŷ[i] = winner_class(lowest_labels)"
   ]
  },
  {
   "cell_type": "code",
   "execution_count": 20,
   "metadata": {},
   "outputs": [
    {
     "name": "stdout",
     "output_type": "stream",
     "text": [
      "acertos:\t 2670 \n",
      "erros:\t\t 277 \n",
      "erro(%):\t 9.399389209365456\n"
     ]
    }
   ],
   "source": [
    "print_error(ŷ,testY)"
   ]
  },
  {
   "cell_type": "markdown",
   "metadata": {},
   "source": [
    "### Matriz de confusão\n",
    "- A matriz de confusão explora as métricas de um classificador. Em sua diagonal principal temos os acertos (Verdadeiro Positivo e Verdadeiro Negativo). Enquanto na diagonal anti-principal temos os erros do modelo (Falso positivo e Falso Negativo)"
   ]
  },
  {
   "cell_type": "code",
   "execution_count": 21,
   "metadata": {},
   "outputs": [
    {
     "data": {
      "text/plain": [
       "array([[485,   1,  10,   0,   0,   0],\n",
       "       [ 37, 429,   5,   0,   0,   0],\n",
       "       [ 47,  41, 332,   0,   0,   0],\n",
       "       [  0,   4,   0, 395,  92,   0],\n",
       "       [  0,   0,   0,  37, 495,   0],\n",
       "       [  0,   0,   0,   2,   1, 534]])"
      ]
     },
     "execution_count": 21,
     "metadata": {},
     "output_type": "execute_result"
    }
   ],
   "source": [
    "from sklearn.metrics import multilabel_confusion_matrix\n",
    "from sklearn.metrics import confusion_matrix\n",
    "y_true = testY\n",
    "y_pred = ŷ\n",
    "multilabel_confusion_matrix(y_true, y_pred, labels = np.unique(testY))\n",
    "confusion_matrix(y_true, y_pred, labels = np.unique(testY))"
   ]
  },
  {
   "cell_type": "markdown",
   "metadata": {},
   "source": [
    "# Área reservada para testes de código"
   ]
  },
  {
   "cell_type": "code",
   "execution_count": 22,
   "metadata": {},
   "outputs": [
    {
     "name": "stdout",
     "output_type": "stream",
     "text": [
      "dist:  [[10.58300524  5.47722558]]\n"
     ]
    }
   ],
   "source": [
    "# teste da função de distância Euclidiana v2\n",
    "vetor1 = np.array([[1, 2, 3, 10], [2, 3, 6, 8]], dtype = np.int8)\n",
    "vetor2 = np.array([[3, 4, 5, 20], [5, 7, 8, 9]], dtype = np.int8)\n",
    "dist = euclidian_distance(vetor1, vetor2)\n",
    "print(\"dist: \", dist)"
   ]
  },
  {
   "cell_type": "code",
   "execution_count": 23,
   "metadata": {},
   "outputs": [
    {
     "name": "stdout",
     "output_type": "stream",
     "text": [
      "[4. 4. 4.]\n"
     ]
    }
   ],
   "source": [
    "# teste da função get_labels:\n",
    "labels = get_labels(get_lowest_dist_indexes(dists[0], 3), trainY)\n",
    "print (labels)"
   ]
  },
  {
   "cell_type": "code",
   "execution_count": 24,
   "metadata": {},
   "outputs": [
    {
     "data": {
      "text/plain": [
       "4"
      ]
     },
     "execution_count": 24,
     "metadata": {},
     "output_type": "execute_result"
    }
   ],
   "source": [
    "# teste da função da classe vencedora\n",
    "labels = get_labels(get_lowest_dist_indexes(dists[00], 3), trainY)\n",
    "c = winner_class(labels)\n",
    "c"
   ]
  }
 ],
 "metadata": {
  "kernelspec": {
   "display_name": "Python 3",
   "language": "python",
   "name": "python3"
  },
  "language_info": {
   "codemirror_mode": {
    "name": "ipython",
    "version": 3
   },
   "file_extension": ".py",
   "mimetype": "text/x-python",
   "name": "python",
   "nbconvert_exporter": "python",
   "pygments_lexer": "ipython3",
   "version": "3.7.4"
  }
 },
 "nbformat": 4,
 "nbformat_minor": 2
}
