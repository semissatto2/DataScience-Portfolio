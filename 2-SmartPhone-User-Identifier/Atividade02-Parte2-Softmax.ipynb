{
 "cells": [
  {
   "cell_type": "markdown",
   "metadata": {},
   "source": [
    "# CLASSIFICAÇÃO MULTICLASSE - SOFTMAX\n",
    "### Problema: dentificação de atividade humana usando dados de smartphones\n",
    "\n",
    "- Guilherme Teixeira Semissatto\n",
    "- RA: 140656\n",
    "- semissatto@gmail.com"
   ]
  },
  {
   "cell_type": "code",
   "execution_count": 1,
   "metadata": {},
   "outputs": [],
   "source": [
    "import pandas as pd\n",
    "import numpy as np\n",
    "import matplotlib.pyplot as plt"
   ]
  },
  {
   "cell_type": "code",
   "execution_count": 2,
   "metadata": {},
   "outputs": [],
   "source": [
    "trainX_df = pd.read_fwf('./Dados/har_smartphone/X_train.txt', header = None)\n",
    "testX_df = pd.read_fwf('./Dados/har_smartphone/X_test.txt', header = None)\n",
    "trainY_df = pd.read_csv('./Dados/har_smartphone/y_train.txt', header = None)\n",
    "testY_df = pd.read_csv('./Dados/har_smartphone/y_test.txt', header = None)"
   ]
  },
  {
   "cell_type": "code",
   "execution_count": 3,
   "metadata": {},
   "outputs": [
    {
     "name": "stdout",
     "output_type": "stream",
     "text": [
      "(2947, 561) (7352, 561) (7352, 1) (2947, 1)\n"
     ]
    }
   ],
   "source": [
    "print (testX_df.shape, trainX_df.shape, trainY_df.shape, testY_df.shape)"
   ]
  },
  {
   "cell_type": "code",
   "execution_count": 4,
   "metadata": {},
   "outputs": [
    {
     "name": "stdout",
     "output_type": "stream",
     "text": [
      "(2947, 561) (7352, 561) (7352, 1) (2947, 1)\n"
     ]
    }
   ],
   "source": [
    "trainX = trainX_df.values\n",
    "trainY = trainY_df.values\n",
    "testX = testX_df.values\n",
    "testY = testY_df.values\n",
    "print (testX.shape, trainX.shape, trainY.shape, testY.shape)"
   ]
  },
  {
   "cell_type": "code",
   "execution_count": 5,
   "metadata": {},
   "outputs": [],
   "source": [
    "''' subtrai 1 dos valores de saída para ficar de acordo com o enunciado que segue:\n",
    "# 0 – caminhada; 1 – subindo escadas;\n",
    "# 2 – descendo escadas; 3 – sentado; \n",
    "# 4 – em pé; 5 – deitado '''\n",
    "\n",
    "for i in range(len(trainY)):\n",
    "    trainY[i] = trainY[i] - 1\n",
    "\n",
    "for i in range(len(testY)):\n",
    "    testY[i] = testY[i] - 1"
   ]
  },
  {
   "cell_type": "code",
   "execution_count": 6,
   "metadata": {},
   "outputs": [],
   "source": [
    "def one_hot_it(array):\n",
    "    ''' Recebe uma matriz de probabilidade\n",
    "    retorna 1 para a maior probabilidade e 0 para o resto, linha a linha '''\n",
    "    onehot = np.zeros(shape = array.shape)\n",
    "    #onehot = np.matrix(array.shape[1])\n",
    "    for i in range(len(array)):\n",
    "        max_index = array[i].argmax()\n",
    "        onehot[i][max_index] = 1\n",
    "    return onehot"
   ]
  },
  {
   "cell_type": "markdown",
   "metadata": {},
   "source": [
    "[1 0 0 0 0 0]$^T$: caminhando \n",
    "\n",
    "\n",
    "[0 1 0 0 0 0]$^T$: subindo escadas\n",
    "\n",
    "\n",
    "[0 0 1 0 0 0]$^T$: descendo escadas\n",
    "\n",
    "\n",
    "[0 0 0 1 0 0]$^T$: sentado\n",
    "\n",
    "\n",
    "[0 0 0 0 1 0]$^T$: parado\n",
    "\n",
    "\n",
    "[0 0 0 0 0 1]$^T$: deitado"
   ]
  },
  {
   "cell_type": "code",
   "execution_count": 7,
   "metadata": {},
   "outputs": [],
   "source": [
    "def one_hot_encoder(data):\n",
    "    ''' Recebe dados categorizados (inteiros) e retorna um vetor one-hot. Exemplo [3]-> [0, 0, 0, 1, 0, 0]'''\n",
    "    encoded = np.matrix(np.zeros(len(data)*int(max(data)+1))).reshape((len(data), int(max(data)+1)))\n",
    "    for i in range(len(data)):\n",
    "        max_index = data[i]\n",
    "        encoded[i, max_index] = 1\n",
    "    return encoded"
   ]
  },
  {
   "cell_type": "code",
   "execution_count": 8,
   "metadata": {},
   "outputs": [],
   "source": [
    "def one_hot_decoder(data):\n",
    "    ''' Recebe vetor one-hot e converte para categoria. Exemplo [0, 0, 0, 1, 0, 0] -> [3]'''\n",
    "    decoded = np.zeros(data.shape[0]).reshape(-1,1)\n",
    "    for i in range(len(data)):\n",
    "        decoded[i] = np.argmax(data[i])\n",
    "    return decoded     "
   ]
  },
  {
   "cell_type": "code",
   "execution_count": 9,
   "metadata": {},
   "outputs": [],
   "source": [
    "def normalize_data(data):\n",
    "    ''' Converte os valores de um dataset para uma norma <= 1'''\n",
    "    m, n = data.shape\n",
    "    for column in range(n):\n",
    "        max_value = float(max(data[:, column]))\n",
    "        min_value = float(min(data[:, column]))\n",
    "        if (abs(min_value) > max_value):\n",
    "            max_value = abs(min_value)            \n",
    "        data[:,column] = data[:, column]/max_value\n",
    "    return data"
   ]
  },
  {
   "cell_type": "code",
   "execution_count": 10,
   "metadata": {},
   "outputs": [],
   "source": [
    "def softmax(z):\n",
    "    ''' softmax: recebe net_input(x@w) e gera matriz de probabilidades conforme cada classe '''\n",
    "    numerator = np.exp(z.T)\n",
    "    denominator = np.sum(np.exp(z), axis = 1)\n",
    "    return (np.transpose(numerator/denominator.T))"
   ]
  },
  {
   "cell_type": "markdown",
   "metadata": {},
   "source": [
    "### Normalização dos dados\n",
    "- Uma vez que os dados passarão por uma função de ativação do tipo exponencial, os dados foram normalizados de forma que sua norma nunca ultrapasse 1"
   ]
  },
  {
   "cell_type": "code",
   "execution_count": 11,
   "metadata": {},
   "outputs": [],
   "source": [
    "testX_normalized = normalize_data(testX)\n",
    "trainX_normalized = normalize_data(trainX)"
   ]
  },
  {
   "cell_type": "code",
   "execution_count": 13,
   "metadata": {},
   "outputs": [],
   "source": [
    "def calcGradLoss(w,x,y,m):\n",
    "    ''' Calcula o gradiente e a função de custo do tipo (Zero One Loss) para a instância de treinamento '''\n",
    "    y_mat = one_hot_encoder(y) \n",
    "    scores = np.dot(x,w) \n",
    "    prob = softmax(scores) \n",
    "    ŷ_ = one_hot_it(prob)\n",
    "    loss = zero_one_loss(y_mat, ŷ_)\n",
    "    grad = (-1 / m) * np.dot(x.T,(y_mat - prob)) \n",
    "    return grad, loss"
   ]
  },
  {
   "cell_type": "code",
   "execution_count": 14,
   "metadata": {},
   "outputs": [],
   "source": [
    "def zero_one_loss(y, ŷ):\n",
    "    ''' Calcula quão diferente está a estimativa de classe da classe real\n",
    "        a partir da norma do vetor diferença (esperado - estimado)'''\n",
    "    diff = (y - ŷ)\n",
    "    norma = np.dot(diff.T, diff)/2\n",
    "    soma_linha = np.sum(abs(norma), axis = 1)\n",
    "    total_error = np.sum(soma_linha)\n",
    "    loss = total_error/len(y)\n",
    "    return loss"
   ]
  },
  {
   "cell_type": "markdown",
   "metadata": {},
   "source": [
    "### Loop de treinamento\n",
    "- O treinamento é baseado em esforço computacional com base no gradiente descendente para o softmax (entropia cruzada)\n",
    "- Como métrica de desempenho, utilizou-se Zero One Loss comentado acima que calcula quão diferente está a estimativa de classe da classe real a partir da norma do vetor diferença (esperado - estimado)\n",
    "- O algoritmo itera atualizando seus pesos com base num passo de aprendizado (learningRate) * gradiente, até se chegar em um erro Zero One Loss menor que 0.1\n",
    "- O cálculo do gradiente foi podenrado pelo número de amostras do dataset e para a solução convergir utilizou-se um passo de aprendizado (learningRate) de 0.05, valores superior a isso geravam instabilidades na solução (analisados empiricamente)"
   ]
  },
  {
   "cell_type": "code",
   "execution_count": 15,
   "metadata": {},
   "outputs": [],
   "source": [
    "x = trainX_normalized\n",
    "x = np.insert(x, 0, 1, 1) # adiciona coluna de 1's (bias)\n",
    "y = trainY\n",
    "n_features = x.shape[1]\n",
    "n_classes = len(np.unique(y))\n",
    "n_samples = x.shape[0]\n",
    "\n",
    "# inicia matriz de pesos com dim = (#features + 1, #classes)\n",
    "w = np.random.rand(n_features*n_classes).reshape(n_features, n_classes) \n",
    "learningRate = 0.05\n",
    "losses = []\n",
    "loss = 9e9\n",
    "tolerance = 0.1\n",
    "\n",
    "#for i in range(0,iterations):\n",
    "while (loss > tolerance):\n",
    "    grad, loss = calcGradLoss(w,x,y,n_samples)\n",
    "    losses.append(loss)\n",
    "    w = w - (learningRate * grad)"
   ]
  },
  {
   "cell_type": "markdown",
   "metadata": {},
   "source": [
    "### Progressão do One Zero Loss\n",
    "- Conforme o modelo aprende (itera) com base no gradiente, os pesos são otimizados e desta forma a taxa de erro One Zero Loss tende a diminuir tendo em vista que o modelo começa acertar mais\n",
    "- A figura abaixo mostra o progresso da taxa One Zero loss para cada época (\"epochs\") do treinamento"
   ]
  },
  {
   "cell_type": "code",
   "execution_count": 16,
   "metadata": {},
   "outputs": [
    {
     "name": "stdout",
     "output_type": "stream",
     "text": [
      "min loss: 0.09983677910772579\n"
     ]
    },
    {
     "data": {
      "image/png": "[encoded data removed]",
      "text/plain": [
       "<Figure size 432x288 with 1 Axes>"
      ]
     },
     "metadata": {
      "needs_background": "light"
     },
     "output_type": "display_data"
    }
   ],
   "source": [
    "print(\"min loss:\", min(losses))\n",
    "plt.plot(losses, color = \"darkorange\")\n",
    "plt.xlabel(\"Epochs\")\n",
    "plt.ylabel(\"Zero One Loss\")\n",
    "plt.grid(True)"
   ]
  },
  {
   "cell_type": "markdown",
   "metadata": {},
   "source": [
    "### Avaliando o modelo ótimo"
   ]
  },
  {
   "cell_type": "code",
   "execution_count": 17,
   "metadata": {},
   "outputs": [
    {
     "name": "stdout",
     "output_type": "stream",
     "text": [
      "acertos:\t 2712 \n",
      "erros:\t\t 235 \n",
      "erro(%):\t 7.974211062097048\n"
     ]
    }
   ],
   "source": [
    "x = testX_normalized\n",
    "x = np.insert(x, 0, 1, 1) # adiciona coluna de 1's (bias)\n",
    "y = testY\n",
    "ŷ = one_hot_it(softmax(x@w))\n",
    "ŷ = one_hot_decoder(ŷ)\n",
    "\n",
    "def calc_error(ŷ, y):\n",
    "    acerto = 0\n",
    "    erro = 0\n",
    "    for i in range(len(ŷ)):\n",
    "        if int(ŷ[i]) == int(y[i]):\n",
    "            acerto += 1\n",
    "        else:\n",
    "            erro += 1\n",
    "    print(\"acertos:\\t\", acerto, \"\\nerros:\\t\\t\", erro, \"\\nerro(%):\\t\", 100*erro/(acerto+erro))\n",
    "\n",
    "calc_error(ŷ,y)"
   ]
  },
  {
   "cell_type": "markdown",
   "metadata": {},
   "source": [
    "### Matriz de confusão\n",
    "- A matriz de confusão explora as métricas de um classificador. Em sua diagonal principal temos os acertos (Verdadeiro Positivo e Verdadeiro Negativo). Enquanto na diagonal anti-principal temos os erros do modelo (Falso positivo e Falso Negativo)"
   ]
  },
  {
   "cell_type": "code",
   "execution_count": 18,
   "metadata": {},
   "outputs": [
    {
     "data": {
      "text/plain": [
       "array([[481,   4,  11,   0,   0,   0],\n",
       "       [ 18, 424,  29,   0,   0,   0],\n",
       "       [ 16,  29, 375,   0,   0,   0],\n",
       "       [  0,   4,   0, 393,  91,   3],\n",
       "       [  0,   1,   0,  29, 502,   0],\n",
       "       [  0,   0,   0,   0,   0, 537]])"
      ]
     },
     "execution_count": 18,
     "metadata": {},
     "output_type": "execute_result"
    }
   ],
   "source": [
    "from sklearn.metrics import multilabel_confusion_matrix\n",
    "from sklearn.metrics import confusion_matrix\n",
    "y_true = y\n",
    "y_pred = ŷ\n",
    "multilabel_confusion_matrix(y_true, y_pred, labels = np.unique(y))\n",
    "confusion_matrix(y_true, y_pred, labels = np.unique(y))"
   ]
  }
 ],
 "metadata": {
  "kernelspec": {
   "display_name": "Python 3",
   "language": "python",
   "name": "python3"
  },
  "language_info": {
   "codemirror_mode": {
    "name": "ipython",
    "version": 3
   },
   "file_extension": ".py",
   "mimetype": "text/x-python",
   "name": "python",
   "nbconvert_exporter": "python",
   "pygments_lexer": "ipython3",
   "version": "3.7.4"
  }
 },
 "nbformat": 4,
 "nbformat_minor": 2
}
